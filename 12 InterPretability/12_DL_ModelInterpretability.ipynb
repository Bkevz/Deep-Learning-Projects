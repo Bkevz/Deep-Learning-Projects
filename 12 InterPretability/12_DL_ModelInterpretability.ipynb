{
  "nbformat": 4,
  "nbformat_minor": 0,
  "metadata": {
    "colab": {
      "name": "12_DL_ModelInterpretability.ipynb",
      "provenance": [],
      "collapsed_sections": []
    },
    "kernelspec": {
      "name": "python3",
      "display_name": "Python 3"
    },
    "language_info": {
      "name": "python"
    }
  },
  "cells": [
    {
      "cell_type": "markdown",
      "metadata": {
        "id": "JmfEUrxGwBWX"
      },
      "source": [
        "##Model Interpretability"
      ]
    },
    {
      "cell_type": "markdown",
      "metadata": {
        "id": "lWpL8bmyxVMP"
      },
      "source": [
        "##Installing Eli5"
      ]
    },
    {
      "cell_type": "code",
      "metadata": {
        "id": "sXV2dObbvxbL"
      },
      "source": [
        "!pip install eli5"
      ],
      "execution_count": null,
      "outputs": []
    },
    {
      "cell_type": "markdown",
      "metadata": {
        "id": "nj-3QyF7wwMS"
      },
      "source": [
        "###Importing Libraries"
      ]
    },
    {
      "cell_type": "code",
      "metadata": {
        "id": "svhj1ZL8vRwo"
      },
      "source": [
        "from sklearn.ensemble import RandomForestClassifier\n",
        "from sklearn.model_selection import train_test_split\n",
        "import seaborn as sns"
      ],
      "execution_count": null,
      "outputs": []
    },
    {
      "cell_type": "markdown",
      "metadata": {
        "id": "d65zY2t6xdcn"
      },
      "source": [
        "###Loading Dataset"
      ]
    },
    {
      "cell_type": "code",
      "metadata": {
        "id": "UmokbTGoxdrf"
      },
      "source": [
        "dataset = sns.load_dataset('mpg').dropna()\n",
        "dataset"
      ],
      "execution_count": null,
      "outputs": []
    },
    {
      "cell_type": "markdown",
      "metadata": {
        "id": "av5_mKEMxnfc"
      },
      "source": [
        "###Droping Name Column"
      ]
    },
    {
      "cell_type": "code",
      "metadata": {
        "id": "e6XhuXCExnpx"
      },
      "source": [
        "dataset.drop('name', axis =1 , inplace = True)\n",
        "dataset"
      ],
      "execution_count": null,
      "outputs": []
    },
    {
      "cell_type": "markdown",
      "metadata": {
        "id": "hh8nRk2IzF8C"
      },
      "source": [
        "###Splitting Dataset"
      ]
    },
    {
      "cell_type": "code",
      "metadata": {
        "id": "-Vtq-3MjzGT5"
      },
      "source": [
        "X_train, X_test, y_train, y_test = train_test_split(dataset.drop('origin', axis = 1), mpg['origin'], test_size = 0.2, random_state = 121)"
      ],
      "execution_count": null,
      "outputs": []
    },
    {
      "cell_type": "markdown",
      "metadata": {
        "id": "pypLnY69zNA_"
      },
      "source": [
        "###Model Training"
      ]
    },
    {
      "cell_type": "code",
      "metadata": {
        "id": "UJMqbFEazPJw"
      },
      "source": [
        "model = RandomForestClassifier()\n",
        "model.fit(X_train, y_train)"
      ],
      "execution_count": null,
      "outputs": []
    },
    {
      "cell_type": "markdown",
      "metadata": {
        "id": "6wg4mC_1zSKH"
      },
      "source": [
        "###ELI5 function to show the classifier weight"
      ]
    },
    {
      "cell_type": "code",
      "metadata": {
        "id": "rJ364VQizSTQ"
      },
      "source": [
        "import eli5\n",
        "eli5.show_weights(model, feature_names = list(X_test.columns))"
      ],
      "execution_count": null,
      "outputs": []
    },
    {
      "cell_type": "markdown",
      "metadata": {
        "id": "YBAmJfxnz6wC"
      },
      "source": [
        "Note: displacement feature is the most important feature\n",
        " but they have a high deviation, indicating bias within the model"
      ]
    },
    {
      "cell_type": "markdown",
      "metadata": {
        "id": "lh63fUiDzaXn"
      },
      "source": [
        "###ELI5 function to show the classifier prediction result"
      ]
    },
    {
      "cell_type": "code",
      "metadata": {
        "id": "oSQ6l1s6zag5"
      },
      "source": [
        "eli5.show_prediction(model, X_train.iloc[0])"
      ],
      "execution_count": null,
      "outputs": []
    },
    {
      "cell_type": "markdown",
      "metadata": {
        "id": "h8Cr5doG0k84"
      },
      "source": [
        "Note: \n",
        "Using the show prediction function by ELI5, we could get the feature contribution information. \n",
        "What features contribute to certain prediction results, and how much is the probability shifting by these features."
      ]
    },
    {
      "cell_type": "markdown",
      "metadata": {
        "id": "EH1gTnuN1DbQ"
      },
      "source": [
        "###Black-box model based on the model metric — It is called Permutation Importance"
      ]
    },
    {
      "cell_type": "code",
      "metadata": {
        "id": "zcOHswBu0_Nh"
      },
      "source": [
        "from eli5.sklearn import PermutationImportance\n",
        "perm = PermutationImportance(model, scoring = 'accuracy', random_state=101).fit(X_test, y_test)\n",
        "eli5.show_weights(perm, feature_names = list(X_test.columns))"
      ],
      "execution_count": null,
      "outputs": []
    }
  ]
}