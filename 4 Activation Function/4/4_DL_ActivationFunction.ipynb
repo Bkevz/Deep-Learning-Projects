{
  "nbformat": 4,
  "nbformat_minor": 0,
  "metadata": {
    "colab": {
      "name": "2_DL_ActivationFunction.ipynb",
      "provenance": [],
      "collapsed_sections": []
    },
    "kernelspec": {
      "name": "python3",
      "display_name": "Python 3"
    },
    "language_info": {
      "name": "python"
    }
  },
  "cells": [
    {
      "cell_type": "markdown",
      "metadata": {
        "id": "mgcMOlkOyxRz"
      },
      "source": [
        "#Activation Function\n"
      ]
    },
    {
      "cell_type": "markdown",
      "metadata": {
        "id": "zZg-wmyiy2Hd"
      },
      "source": [
        "###Importing Libraries"
      ]
    },
    {
      "cell_type": "code",
      "metadata": {
        "id": "sF93yphtyrhG"
      },
      "source": [
        "from numpy import array #For Array Initialization\n",
        "from numpy import random #For Randomly choosing Numbers\n",
        "from numpy import dot #For Doing DOT Product\n",
        "from random import choice"
      ],
      "execution_count": null,
      "outputs": []
    },
    {
      "cell_type": "markdown",
      "metadata": {
        "id": "_J8gcaRE3FZA"
      },
      "source": [
        "###Initialized Dataset"
      ]
    },
    {
      "cell_type": "code",
      "metadata": {
        "id": "t0gwhMN6zhse"
      },
      "source": [
        "dataset = [\n",
        "    (array([0,0,1]), 0), #array([x,y,b],e) x,y=Input , b=bias, e=Expected O/P to validate\n",
        "    (array([0,1,1]), 1),\n",
        "    (array([1,0,1]), 1),\n",
        "    (array([1,1,1]), 1),\n",
        "]\n",
        "print(dataset)\n",
        "print(array([0,0,1]), 0)"
      ],
      "execution_count": null,
      "outputs": []
    },
    {
      "cell_type": "markdown",
      "metadata": {
        "id": "K1t7I4cI3Myu"
      },
      "source": [
        "###Initializing Random numbers for WEIGHTS"
      ]
    },
    {
      "cell_type": "code",
      "metadata": {
        "id": "gaCIPAqe3RIM"
      },
      "source": [
        "weights = random.rand(3)\n",
        "weights"
      ],
      "execution_count": null,
      "outputs": []
    },
    {
      "cell_type": "markdown",
      "metadata": {
        "id": "mek19BC73eeJ"
      },
      "source": [
        "###Initializing additional variables"
      ]
    },
    {
      "cell_type": "code",
      "metadata": {
        "id": "cmRWDOef3hk3"
      },
      "source": [
        "r = 0.2 #learning Rate\n",
        "n = 100 #Number of Iteration"
      ],
      "execution_count": null,
      "outputs": []
    },
    {
      "cell_type": "markdown",
      "metadata": {
        "id": "8ZWkFpAX0yfF"
      },
      "source": [
        "##ACTIVATION FUNCTION"
      ]
    },
    {
      "cell_type": "markdown",
      "metadata": {
        "id": "qFkj9b4T2-fc"
      },
      "source": [
        "###Training & Evaluating using STEP Activation Function"
      ]
    },
    {
      "cell_type": "code",
      "metadata": {
        "id": "xV6bz_6-3x77"
      },
      "source": [
        "activationFn = lambda x: 0 if x < 0 else 1 #step activation function (if i/p is negative o/p is 0 else 1)\n",
        "for j in range(n):\n",
        "    x, expected = choice(dataset) \n",
        "    result = dot(weights, x)\n",
        "    err = expected-activationFn(result)\n",
        "    weights += r * err * x\n",
        "\n",
        "for x, _ in dataset:\n",
        "    result = dot(x, weights)\n",
        "    print(\"ResultBAFn: {} ResultAFn: {}\".format(round(result,3), activationFn(result)))    "
      ],
      "execution_count": null,
      "outputs": []
    },
    {
      "cell_type": "markdown",
      "metadata": {
        "id": "6AMAQwMw04NZ"
      },
      "source": [
        "###Training & Evaluating using LINEAR Activation Function\n"
      ]
    },
    {
      "cell_type": "code",
      "metadata": {
        "id": "ggVhtsqy05ko"
      },
      "source": [
        "activationFn = lambda x: x \n",
        "\n",
        "for j in range(n):\n",
        "    x, expected = choice(dataset) \n",
        "    result = dot(weights, x) \n",
        "    err = expected-activationFn(result)\n",
        "    weights += r * err * x\n",
        "\n",
        "for x, _ in dataset:\n",
        "    result = dot(x, weights)\n",
        "    print(\"ResultBAFn: {} ResultAFn: {}\".format(round(result,3), activationFn(result)))    "
      ],
      "execution_count": null,
      "outputs": []
    },
    {
      "cell_type": "markdown",
      "metadata": {
        "id": "Pz204q2v1Zj2"
      },
      "source": [
        "###Training & Evaluating using SIGMOID Activation Function"
      ]
    },
    {
      "cell_type": "code",
      "metadata": {
        "id": "HVN2rMRB1cEf"
      },
      "source": [
        "import numpy as np\n",
        "activationFn = lambda x: 1/(1+np.exp(-x))\n",
        "err = []\n",
        "for j in range(n):\n",
        "    x, expected = choice(dataset) \n",
        "    result = dot(weights, x) \n",
        "    err = expected-activationFn(result)\n",
        "    error.append(err)\n",
        "    weights += r * err * x\n",
        "\n",
        "for x, _ in dataset:\n",
        "    result = dot(x, weights)\n",
        "    print(\"ResultBAFn: {} ResultAFn: {}\".format(round(result,3), activationFn(result)))    "
      ],
      "execution_count": null,
      "outputs": []
    },
    {
      "cell_type": "markdown",
      "metadata": {
        "id": "k967JyLm4dTw"
      },
      "source": [
        "###Training & Evaluating using RELU Activation Function"
      ]
    },
    {
      "cell_type": "code",
      "metadata": {
        "id": "0w3KJ2A81ynL"
      },
      "source": [
        "activationFn = lambda x: 0 if x < 0 else x \n",
        "for j in range(n):\n",
        "    x, expected = choice(dataset) \n",
        "    result = dot(weights, x)\n",
        "    err = expected-activationFn(result)\n",
        "    weights += r * err * x\n",
        "\n",
        "for x, _ in dataset:\n",
        "    result = dot(x, weights)\n",
        "    print(\"ResultBAFn: {} ResultAFn: {}\".format(round(result,3), activationFn(result)))    "
      ],
      "execution_count": null,
      "outputs": []
    },
    {
      "cell_type": "markdown",
      "metadata": {
        "id": "dhfA-Lkq5AbT"
      },
      "source": [
        "###Training & Evaluating using SOFTMAX Activation Function"
      ]
    },
    {
      "cell_type": "code",
      "metadata": {
        "id": "vEurppgE5GAU"
      },
      "source": [
        "activationFn = lambda x: np.exp(x) / np.sum(np.exp(x), axis=0)\n",
        "err = []\n",
        "for j in range(n):\n",
        "    x, expected = choice(dataset) \n",
        "    result = dot(weights, x) \n",
        "    err = expected-activationFn(result)\n",
        "    error.append(err)\n",
        "    weights += r * err * x\n",
        "\n",
        "for x, _ in dataset:\n",
        "    result = dot(x, weights)\n",
        "    print(\"ResultBAFn: {} ResultAFn: {}\".format(round(result,3), activationFn(result)))    "
      ],
      "execution_count": null,
      "outputs": []
    }
  ]
}