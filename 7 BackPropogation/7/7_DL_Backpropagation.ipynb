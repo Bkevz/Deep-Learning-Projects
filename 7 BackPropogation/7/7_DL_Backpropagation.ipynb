{
  "nbformat": 4,
  "nbformat_minor": 0,
  "metadata": {
    "colab": {
      "name": "7_DL_Backpropagation.ipynb",
      "provenance": [],
      "collapsed_sections": []
    },
    "kernelspec": {
      "name": "python3",
      "display_name": "Python 3"
    },
    "language_info": {
      "name": "python"
    }
  },
  "cells": [
    {
      "cell_type": "markdown",
      "metadata": {
        "id": "t0ww2aBZSA6j"
      },
      "source": [
        "##BackPropagation"
      ]
    },
    {
      "cell_type": "markdown",
      "metadata": {
        "id": "9nmUKFtLSVLR"
      },
      "source": [
        "###Importing Libraries"
      ]
    },
    {
      "cell_type": "code",
      "metadata": {
        "id": "Aj5NeDa8R4Xi"
      },
      "source": [
        "import numpy as np #array Operations\n",
        "import pandas as pd #Handling Data\n",
        "from sklearn.datasets import load_iris #Plant Iris Dataset\n",
        "from sklearn.model_selection import train_test_split #Splitting Dataset into Train & Test\n",
        "import matplotlib.pyplot as plt #plotting Graph"
      ],
      "execution_count": null,
      "outputs": []
    },
    {
      "cell_type": "markdown",
      "metadata": {
        "id": "GucqdBtcSfMB"
      },
      "source": [
        "###Load Dataset"
      ]
    },
    {
      "cell_type": "code",
      "metadata": {
        "id": "_qdIGT-XSgt5"
      },
      "source": [
        "dataset = load_iris()\n",
        "dataset"
      ],
      "execution_count": null,
      "outputs": []
    },
    {
      "cell_type": "markdown",
      "metadata": {
        "id": "0rdKToOaTMVt"
      },
      "source": [
        "###Segregating Data into X(Imput) & Y(Output)"
      ]
    },
    {
      "cell_type": "code",
      "metadata": {
        "id": "07yBPApVTUXR"
      },
      "source": [
        "x=dataset.data\n",
        "y=dataset.target\n",
        "print(x)\n",
        "print(y)"
      ],
      "execution_count": null,
      "outputs": []
    },
    {
      "cell_type": "markdown",
      "metadata": {
        "id": "W1bCU-CsoyKH"
      },
      "source": [
        "###Convert categorical variable into dummy/indicator variables"
      ]
    },
    {
      "cell_type": "code",
      "metadata": {
        "id": "PwfCQY7Xeb5L"
      },
      "source": [
        "y = pd.get_dummies(y).values\n",
        "y"
      ],
      "execution_count": null,
      "outputs": []
    },
    {
      "cell_type": "markdown",
      "metadata": {
        "id": "FiSqHbTLT81c"
      },
      "source": [
        "###Split dataset into Train & Test"
      ]
    },
    {
      "cell_type": "code",
      "metadata": {
        "id": "mvFK1E8SUAvK"
      },
      "source": [
        "X_train, X_test, y_train, y_test = train_test_split(x, y, test_size=20, random_state=4)"
      ],
      "execution_count": null,
      "outputs": []
    },
    {
      "cell_type": "markdown",
      "metadata": {
        "id": "dgoKMckPUO7z"
      },
      "source": [
        "###Initializing Hyper Parameters"
      ]
    },
    {
      "cell_type": "code",
      "metadata": {
        "id": "NVB3ODANUR2a"
      },
      "source": [
        "learningRate = 0.1\n",
        "epoch = 5000\n",
        "N = y_train.size\n",
        "input_size = 4\n",
        "hidden_size = 2 \n",
        "output_size = 3  \n",
        "results = pd.DataFrame(columns=[\"MeanSquareError\", \"accuracy\"])"
      ],
      "execution_count": null,
      "outputs": []
    },
    {
      "cell_type": "markdown",
      "metadata": {
        "id": "4In3Uv4rUgrp"
      },
      "source": [
        "###Initializing Weights"
      ]
    },
    {
      "cell_type": "code",
      "metadata": {
        "id": "UBbptAKhUjCJ"
      },
      "source": [
        "np.random.seed(10)\n",
        "firstWeight = np.random.normal(scale=0.5, size=(input_size, hidden_size))   \n",
        "lastWeight = np.random.normal(scale=0.5, size=(hidden_size , output_size)) \n",
        "\n",
        "print(firstWeight)\n",
        "print(lastWeight)"
      ],
      "execution_count": null,
      "outputs": []
    },
    {
      "cell_type": "markdown",
      "metadata": {
        "id": "DVRbKaRMZZoD"
      },
      "source": [
        "###Activation Function"
      ]
    },
    {
      "cell_type": "code",
      "metadata": {
        "id": "XIjXHNbRo_Lm"
      },
      "source": [
        "def activationFn(x):\n",
        "    return 1 / (1 + np.exp(-x))"
      ],
      "execution_count": null,
      "outputs": []
    },
    {
      "cell_type": "markdown",
      "metadata": {
        "id": "uWkY1y4ypAa6"
      },
      "source": [
        "###Mean Squared Error"
      ]
    },
    {
      "cell_type": "code",
      "metadata": {
        "id": "Zc-XmBCepECa"
      },
      "source": [
        "def mse(y_pred, y_true):\n",
        "    return ((y_pred - y_true)**2).sum() / (2*y_pred.size)"
      ],
      "execution_count": null,
      "outputs": []
    },
    {
      "cell_type": "markdown",
      "metadata": {
        "id": "BI451VjlpO-Y"
      },
      "source": [
        "###Evaluation Function - Accuracy"
      ]
    },
    {
      "cell_type": "code",
      "metadata": {
        "id": "sbpGb8GkZaKX"
      },
      "source": [
        "def accuracy(y_pred, y_true):\n",
        "    acc = y_pred.argmax(axis=1) == y_true.argmax(axis=1)\n",
        "    return acc.mean()"
      ],
      "execution_count": null,
      "outputs": []
    },
    {
      "cell_type": "markdown",
      "metadata": {
        "id": "07fY5ctPU5Q5"
      },
      "source": [
        "###Training"
      ]
    },
    {
      "cell_type": "code",
      "metadata": {
        "id": "oPtIPJpKU7tn"
      },
      "source": [
        "for i in range(epoch):    \n",
        "    \n",
        "    # feedforward propagation on hidden layer\n",
        "    firstNetInput = np.dot(X_train, firstWeight)\n",
        "    firstAFnOp = activationFn(firstNetInput)\n",
        "\n",
        "    # feedforward propagation on output layer\n",
        "    lastNetInput = np.dot(firstAFnOp, lastWeight)\n",
        "    lastAFnOp = activationFn(lastNetInput)\n",
        "    \n",
        "    # Calculating error\n",
        "    mseValue = mse(lastAFnOp, y_train)\n",
        "    acc = accuracy(lastAFnOp, y_train)\n",
        "    results=results.append({\"MeanSquareError\":mseValue, \"accuracy\":acc},ignore_index=True)\n",
        "    \n",
        "    # backpropagation\n",
        "    E1 = lastAFnOp - y_train\n",
        "    dfirstWeight = E1 * lastAFnOp * (1 - lastAFnOp)\n",
        "\n",
        "    E2 = np.dot(dfirstWeight, lastWeight.T)\n",
        "    dlastWeight = E2 * firstAFnOp * (1 - firstAFnOp)\n",
        "\n",
        "    # weight updates\n",
        "    lastWeight_update = np.dot(firstAFnOp.T, dfirstWeight) / N\n",
        "    firstWeight_update = np.dot(X_train.T, dlastWeight) / N\n",
        "\n",
        "    lastWeight = lastWeight - learningRate * lastWeight_update\n",
        "    firstWeight = firstWeight - learningRate * firstWeight_update"
      ],
      "execution_count": null,
      "outputs": []
    },
    {
      "cell_type": "code",
      "metadata": {
        "id": "GGXqm7MhaYot"
      },
      "source": [
        "results.MeanSquareError.plot(title=\"Mean Squared Error\")"
      ],
      "execution_count": null,
      "outputs": []
    },
    {
      "cell_type": "code",
      "metadata": {
        "id": "qGH-RBEkacIR"
      },
      "source": [
        "results.accuracy.plot(title=\"Accuracy\")"
      ],
      "execution_count": null,
      "outputs": []
    },
    {
      "cell_type": "code",
      "metadata": {
        "id": "QAy0pcxDahD_"
      },
      "source": [
        "# feedforward\n",
        "firstNetInput = np.dot(X_test, firstWeight)\n",
        "firstAFnOp = activationFn(firstNetInput)\n",
        "\n",
        "lastNetInput = np.dot(firstAFnOp, lastWeight)\n",
        "lastAFnOp = activationFn(lastNetInput)\n",
        "\n",
        "acc = accuracy(lastAFnOp, y_test)\n",
        "print(\"Accuracy: {}\".format(acc))"
      ],
      "execution_count": null,
      "outputs": []
    }
  ]
}